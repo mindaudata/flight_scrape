{
 "cells": [
  {
   "cell_type": "code",
   "execution_count": 1,
   "metadata": {},
   "outputs": [],
   "source": [
    "import requests\n",
    "from bs4 import BeautifulSoup\n",
    "import re\n",
    "import pandas\n",
    "\n",
    "\n",
    "user_agent = {\n",
    "    'user-agent': 'Mozilla/5.0 (Windows NT 10.0; Win64; x64; rv:67.0) Gecko/20100101 Firefox/67.0'}\n",
    "\n",
    "\n",
    "# Single request to api -> finding out which days have available flights\n",
    "# Although api is disallowed in 'robots.txt' - this is only a single request and we are not using the data directly\n",
    "daysAvailable = []\n",
    "try:\n",
    "    urlApi = 'https://www.norwegian.com/api/fare-calendar/calendar?adultCount=1&destinationAirportCode=RIX&originAirportCode=OSL&outboundDate=2019-04-01&tripType=1&currencyCode=EUR&languageCode=en-BZ'\n",
    "    apiRequest = requests.get(urlApi, headers=user_agent)\n",
    "    apiJson = apiRequest.json()['outbound']['days']\n",
    "\n",
    "    for day in apiJson:\n",
    "        if day['price'] > 0:\n",
    "            daysAvailable.append(int(day['date'][8:10]))\n",
    "except:\n",
    "    print('Api request failed')\n",
    "    daysAvailable = list(range(1, 31))"
   ]
  },
  {
   "cell_type": "code",
   "execution_count": 3,
   "metadata": {},
   "outputs": [],
   "source": [
    "\n",
    "# There are no flights on Saturdays\n",
    "# 26 Requests on available dates for cheapest price and time of the flight\n",
    "\n",
    "url_begin = 'https://www.norwegian.com/en/ipc/availability/avaday?AdultCount=1&A_City=RIX&D_City=OSL&D_Month=201904&D_Day='\n",
    "url_end = '&IncludeTransit=false&TripType=1&CurrencyCode=EUR&mode=ab'\n",
    "\n",
    "aprilCheapest = {}\n",
    "\n",
    "for day in daysAvailable:\n",
    "    try:\n",
    "        r = requests.get(url_begin+str(day)+url_end, headers=user_agent)\n",
    "        soup = BeautifulSoup(r.content.decode('utf-8'), \"lxml\")\n",
    "        avadaytable = soup.find('table', {'class': 'avadaytable'})\n",
    "        row1 = avadaytable.find_all('tr', {'class': 'rowinfo1'})\n",
    "        row2 = avadaytable.find_all('tr', {'class': 'rowinfo2'})\n",
    "\n",
    "        aprilCheapest[day] = []\n",
    "        for i in range(0, len(row1)):\n",
    "\n",
    "            if not aprilCheapest[day] or (aprilCheapest[day]['Price']) > (row1[i].find('td', {'class': 'fareselect standardlowfare'}).text):\n",
    "\n",
    "                flight = {}\n",
    "                flight['FlightNumber'] = row1[i].find(\n",
    "                    'td', {'class': 'fareselect standardlowfare'}).find('input').get('value').split(\"|\")[1]\n",
    "                flight['DepartPort'] = row2[i].find(\n",
    "                    'td', {'class': 'depdest'}).find('div').text\n",
    "                flight['DepartTime'] = row1[i].find(\n",
    "                    'td', {'class': 'depdest'}).find('div').text\n",
    "                flight['ArriveTime'] = row1[i].find(\n",
    "                    'td', {'class': 'arrdest'}).text\n",
    "                flight['ArrivePort'] = row2[i].find(\n",
    "                    'td', {'class': 'arrdest'}).text\n",
    "                flight['Currency'] = row1[i].find(\n",
    "                    'td', {'class': 'fareselect standardlowfare'}).find('label').get('title')\n",
    "                flight['Price'] = row1[i].find(\n",
    "                    'td', {'class': 'fareselect standardlowfare'}).text\n",
    "\n",
    "                aprilCheapest[day] = flight\n",
    "    except:\n",
    "        print('Price and time scrape failure on day #'+str(day))\n",
    "\n",
    "scrape = pandas.DataFrame.from_dict(aprilCheapest, orient='index')\n",
    "scrape.index.name = 'April'\n"
   ]
  },
  {
   "cell_type": "code",
   "execution_count": 5,
   "metadata": {},
   "outputs": [],
   "source": [
    "# Making 26 requests for Flight Taxes\n",
    "\n",
    "for index, row in scrape.iterrows():\n",
    "    try:\n",
    "        taxUrl = 'https://www.norwegian.com/en/ipc/availability/avaday?D_City=OSL&A_City=RIX&TripType=1&D_Day='+str(index)+'&D_Month=201904&D_SelectedDay='+str(index)+'&R_Day='+str(\n",
    "            index)+'&R_Month=201904&R_SelectedDay='+str(index)+'&dFlight='+row['FlightNumber']+'&dCabinFareType=1&IncludeTransit=false&AgreementCodeFK=-1&CurrencyCode=EUR'\n",
    "        taxRequest = requests.get(taxUrl, headers=user_agent)\n",
    "        taxSoup = BeautifulSoup(taxRequest.content.decode('utf-8'), \"lxml\")\n",
    "        selectiontable = taxSoup.find('table', {'class': 'selectiontable'})\n",
    "        taxSum = selectiontable.find('span', text=re.compile(\n",
    "            'Taxes, Fees and Charges')).parent.parent.parent.find('td', {'class': 'rightcell'}).text\n",
    "        scrape.at[index, 'Tax'] = taxSum[1:]\n",
    "        scrape.at[index, 'Date'] = \"201904{0:0=2d}\".format(index)\n",
    "    except:\n",
    "        print('Tax scrape failure on day #' + str(index))\n",
    "\n",
    "# Taxes are fixed for this particular flight\n",
    "# Making a single request instead of 26 would be a good practice\n"
   ]
  },
  {
   "cell_type": "code",
   "execution_count": 6,
   "metadata": {},
   "outputs": [],
   "source": [
    "scrape = scrape[['Date', 'DepartPort', 'DepartTime',\n",
    "                 'ArriveTime', 'ArrivePort', 'Price', 'Tax']]\n",
    "\n",
    "with open('OSLRIX201904.json', 'w') as f:\n",
    "    f.write(scrape.to_json(orient='records'))\n"
   ]
  }
 ],
 "metadata": {
  "kernelspec": {
   "display_name": "Python 3",
   "language": "python",
   "name": "python3"
  },
  "language_info": {
   "codemirror_mode": {
    "name": "ipython",
    "version": 3
   },
   "file_extension": ".py",
   "mimetype": "text/x-python",
   "name": "python",
   "nbconvert_exporter": "python",
   "pygments_lexer": "ipython3",
   "version": "3.7.2"
  }
 },
 "nbformat": 4,
 "nbformat_minor": 2
}
